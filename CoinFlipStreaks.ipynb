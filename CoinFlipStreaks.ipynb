{
 "cells": [
  {
   "cell_type": "code",
   "execution_count": 1,
   "id": "1832cbed-e12b-4934-9567-2f679e54d91b",
   "metadata": {},
   "outputs": [
    {
     "name": "stdin",
     "output_type": "stream",
     "text": [
      "Enter your name:  Manasa M A\n",
      "Enter your section:  O\n",
      "Enter your USN:  1AY24AI066\n"
     ]
    },
    {
     "name": "stdout",
     "output_type": "stream",
     "text": [
      "\n",
      "Welcome, Manasa M A from section O (USN: 1AY24AI066)!\n",
      "Let's analyze the probability of streaks in coin flips!\n",
      "\n",
      "Chance of a streak of 6 heads or tails in a row: 80.78%\n"
     ]
    }
   ],
   "source": [
    "import random\n",
    "\n",
    "name = input(\"Enter your name: \")\n",
    "section = input(\"Enter your section: \")\n",
    "usn = input(\"Enter your USN: \")\n",
    "\n",
    "print(f\"\\nWelcome, {name} from section {section} (USN: {usn})!\")\n",
    "print(\"Let's analyze the probability of streaks in coin flips!\\n\")\n",
    "\n",
    "number_of_streaks = 0\n",
    "experiments = 10000\n",
    "flips_per_experiment = 100\n",
    "streak_length = 6\n",
    "\n",
    "for experiment in range(experiments):\n",
    "    flips = [random.choice(['H', 'T']) for _ in range(flips_per_experiment)]\n",
    "\n",
    "    current_streak = 1\n",
    "    for i in range(1, len(flips)):\n",
    "        if flips[i] == flips[i - 1]:\n",
    "            current_streak += 1\n",
    "            if current_streak == streak_length:\n",
    "                number_of_streaks += 1\n",
    "                break  \n",
    "        else:\n",
    "            current_streak = 1\n",
    "\n",
    "percentage = (number_of_streaks / experiments) * 100\n",
    "print(f\"Chance of a streak of {streak_length} heads or tails in a row: {percentage:.2f}%\")\n"
   ]
  },
  {
   "cell_type": "code",
   "execution_count": null,
   "id": "e9b7a86d-32a0-4744-a04c-c4a8a70f48bf",
   "metadata": {},
   "outputs": [],
   "source": []
  }
 ],
 "metadata": {
  "kernelspec": {
   "display_name": "Python 3 (ipykernel)",
   "language": "python",
   "name": "python3"
  },
  "language_info": {
   "codemirror_mode": {
    "name": "ipython",
    "version": 3
   },
   "file_extension": ".py",
   "mimetype": "text/x-python",
   "name": "python",
   "nbconvert_exporter": "python",
   "pygments_lexer": "ipython3",
   "version": "3.12.7"
  }
 },
 "nbformat": 4,
 "nbformat_minor": 5
}
