{
 "cells": [
  {
   "cell_type": "code",
   "execution_count": 1,
   "id": "ad1fd8a3-17de-4f6e-a1b7-e7ee4e2916e1",
   "metadata": {},
   "outputs": [
    {
     "name": "stdin",
     "output_type": "stream",
     "text": [
      "Enter your name:  Manasa M A\n",
      "Enter your section:  O\n",
      "Enter your USN:  1AY24AI066\n"
     ]
    },
    {
     "name": "stdout",
     "output_type": "stream",
     "text": [
      "\n",
      "Welcome, Manasa M A from section O (USN: 1AY24AI066)!\n",
      "Let's format a list into a grammatically correct sentence!\n",
      "\n",
      "Formatted list: apples, bananas, tofu, and cats\n"
     ]
    }
   ],
   "source": [
    "def comma_code(items):\n",
    "    \"\"\"\n",
    "    Combines list into a string of the form item1, item2, and item3\n",
    "    \"\"\"\n",
    "    if not items:\n",
    "        return ''\n",
    "    elif len(items) == 1:\n",
    "        return items[0]\n",
    "    else:\n",
    "        return ', '.join(items[:-1]) + ', and ' + items[-1]\n",
    "\n",
    "name = input(\"Enter your name: \")\n",
    "section = input(\"Enter your section: \")\n",
    "usn = input(\"Enter your USN: \")\n",
    "\n",
    "print(f\"\\nWelcome, {name} from section {section} (USN: {usn})!\")\n",
    "print(\"Let's format a list into a grammatically correct sentence!\\n\")\n",
    "\n",
    "sample_list = ['apples', 'bananas', 'tofu', 'cats']\n",
    "\n",
    "formatted_string = comma_code(sample_list)\n",
    "print(f\"Formatted list: {formatted_string}\")\n"
   ]
  },
  {
   "cell_type": "code",
   "execution_count": null,
   "id": "ce9c1227-b956-4144-9fff-df7385d6626c",
   "metadata": {},
   "outputs": [],
   "source": []
  }
 ],
 "metadata": {
  "kernelspec": {
   "display_name": "Python 3 (ipykernel)",
   "language": "python",
   "name": "python3"
  },
  "language_info": {
   "codemirror_mode": {
    "name": "ipython",
    "version": 3
   },
   "file_extension": ".py",
   "mimetype": "text/x-python",
   "name": "python",
   "nbconvert_exporter": "python",
   "pygments_lexer": "ipython3",
   "version": "3.12.7"
  }
 },
 "nbformat": 4,
 "nbformat_minor": 5
}
