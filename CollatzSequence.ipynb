{
 "cells": [
  {
   "cell_type": "code",
   "execution_count": 1,
   "id": "868b45bc-4155-4f6f-847c-9461d5df8113",
   "metadata": {},
   "outputs": [
    {
     "name": "stdin",
     "output_type": "stream",
     "text": [
      "Enter your name:  Manasa M A\n",
      "Enter your section:  O\n",
      "Enter your USN:  1AY24AI066\n"
     ]
    },
    {
     "name": "stdout",
     "output_type": "stream",
     "text": [
      "\n",
      "Welcome, Manasa M A from section O (USN: 1AY24AI066)!\n",
      "Let's compute the Collatz sequence!\n",
      "\n"
     ]
    },
    {
     "name": "stdin",
     "output_type": "stream",
     "text": [
      "Enter a positive integer:  3\n"
     ]
    },
    {
     "name": "stdout",
     "output_type": "stream",
     "text": [
      "\n",
      "Collatz sequence:\n",
      "3 10 5 16 8 4 2 1\n"
     ]
    }
   ],
   "source": [
    "def collatz(n):\n",
    "    while n != 1:\n",
    "        print(n, end=' ')\n",
    "        if n % 2 == 0:\n",
    "            n = n // 2\n",
    "        else:\n",
    "            n = 3 * n + 1\n",
    "    print(1)\n",
    "\n",
    "name = input(\"Enter your name: \")\n",
    "section = input(\"Enter your section: \")\n",
    "usn = input(\"Enter your USN: \")\n",
    "\n",
    "print(f\"\\nWelcome, {name} from section {section} (USN: {usn})!\")\n",
    "print(\"Let's compute the Collatz sequence!\\n\")\n",
    "\n",
    "try:\n",
    "    num = int(input(\"Enter a positive integer: \"))\n",
    "    if num <= 0:\n",
    "        print(\"Please enter a positive integer greater than zero.\")\n",
    "    else:\n",
    "        print(\"\\nCollatz sequence:\")\n",
    "        collatz(num)\n",
    "except ValueError:\n",
    "    print(\"Invalid input. Please enter a valid integer.\")\n"
   ]
  },
  {
   "cell_type": "code",
   "execution_count": null,
   "id": "6bef245f-d483-4386-addc-419edea524fe",
   "metadata": {},
   "outputs": [],
   "source": []
  }
 ],
 "metadata": {
  "kernelspec": {
   "display_name": "Python 3 (ipykernel)",
   "language": "python",
   "name": "python3"
  },
  "language_info": {
   "codemirror_mode": {
    "name": "ipython",
    "version": 3
   },
   "file_extension": ".py",
   "mimetype": "text/x-python",
   "name": "python",
   "nbconvert_exporter": "python",
   "pygments_lexer": "ipython3",
   "version": "3.12.7"
  }
 },
 "nbformat": 4,
 "nbformat_minor": 5
}
