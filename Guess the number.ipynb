{
 "cells": [
  {
   "cell_type": "code",
   "execution_count": null,
   "id": "28adaab5-0a55-451e-a9dc-933f4114efb7",
   "metadata": {},
   "outputs": [
    {
     "name": "stdout",
     "output_type": "stream",
     "text": [
      "Name   : Manasa M A\n",
      "Section: AIML-O\n",
      "USN    : 1AY24AI66\n",
      "\n",
      "Welcome to Guess the Number!\n",
      "I'm thinking of a number between 1 and 10.\n",
      "\n"
     ]
    }
   ],
   "source": [
    "import random\n",
    "\n",
    "def guess_the_number():\n",
    "    \n",
    "    name = \"Manasa M A\"\n",
    "    section = \"AIML-O\"\n",
    "    usn = \"1AY24AI66\"\n",
    "    print(\"Name   :\", name)\n",
    "    print(\"Section:\", section)\n",
    "    print(\"USN    :\", usn)\n",
    "    print(\"\\nWelcome to Guess the Number!\")\n",
    "    print(\"I'm thinking of a number between 1 and 10.\\n\")\n",
    "\n",
    "    \n",
    "    number_to_guess = random.randint(1, 10)\n",
    "    attempts = 0\n",
    "\n",
    "    while True:\n",
    "        guess = input(\"Take a guess: \")\n",
    "\n",
    "        if not guess.isdigit():\n",
    "            print(\"Please enter a valid number.\")\n",
    "            continue\n",
    "\n",
    "        guess = int(guess)\n",
    "        attempts += 1\n",
    "\n",
    "        if guess < number_to_guess:\n",
    "            print(\"Too low!\\n\")\n",
    "        elif guess > number_to_guess:\n",
    "            print(\"Too high!\\n\")\n",
    "        else:\n",
    "            print(f\"🎉 Congratulations! You guessed it in {attempts} tries.\")\n",
    "            break\n",
    "\n",
    "guess_the_number()\n"
   ]
  },
  {
   "cell_type": "code",
   "execution_count": null,
   "id": "1dd9ffe5-0df1-4686-9323-96ef29a12b36",
   "metadata": {},
   "outputs": [],
   "source": []
  }
 ],
 "metadata": {
  "kernelspec": {
   "display_name": "Python 3 (ipykernel)",
   "language": "python",
   "name": "python3"
  },
  "language_info": {
   "codemirror_mode": {
    "name": "ipython",
    "version": 3
   },
   "file_extension": ".py",
   "mimetype": "text/x-python",
   "name": "python",
   "nbconvert_exporter": "python",
   "pygments_lexer": "ipython3",
   "version": "3.12.7"
  }
 },
 "nbformat": 4,
 "nbformat_minor": 5
}
