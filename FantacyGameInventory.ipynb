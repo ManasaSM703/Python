{
 "cells": [
  {
   "cell_type": "code",
   "execution_count": 2,
   "id": "32647f5f-8cb9-4e3a-adc7-7707eceab23d",
   "metadata": {},
   "outputs": [
    {
     "name": "stdin",
     "output_type": "stream",
     "text": [
      "Enter your name:  Manasa M A\n",
      "Enter your section:  O\n",
      "Enter your USN:  1AY24AI066\n"
     ]
    },
    {
     "name": "stdout",
     "output_type": "stream",
     "text": [
      "\n",
      "Welcome, Manasa M A from section O (USN: 1AY24AI066)!\n",
      "Let's manage your fantasy game inventory!\n",
      "\n",
      "Current inventory:\n",
      "\n",
      "Inventory:\n",
      "1 rope\n",
      "6 torch\n",
      "42 gold coin\n",
      "1 dagger\n",
      "12 arrow\n",
      "Total number of items: 62\n",
      "\n",
      "After collecting loot:\n",
      "\n",
      "Inventory:\n",
      "1 rope\n",
      "6 torch\n",
      "45 gold coin\n",
      "2 dagger\n",
      "12 arrow\n",
      "1 ruby\n",
      "Total number of items: 67\n"
     ]
    }
   ],
   "source": [
    "def displayInventory(inventory):\n",
    "    \"\"\"\n",
    "    Displays the inventory contents and the total number of items.\n",
    "    \"\"\"\n",
    "    print(\"\\nInventory:\")\n",
    "    item_total = 0\n",
    "    for item, count in inventory.items():\n",
    "        print(f\"{count} {item}\")\n",
    "        item_total += count\n",
    "    print(f\"Total number of items: {item_total}\")\n",
    "\n",
    "def addToInventory(inventory, addedItems):\n",
    "    \"\"\"\n",
    "    Adds a list of items to the inventory.\n",
    "    \"\"\"\n",
    "    for item in addedItems:\n",
    "        inventory.setdefault(item, 0)\n",
    "        inventory[item] += 1\n",
    "    return inventory\n",
    "\n",
    "name = input(\"Enter your name: \")\n",
    "section = input(\"Enter your section: \")\n",
    "usn = input(\"Enter your USN: \")\n",
    "\n",
    "print(f\"\\nWelcome, {name} from section {section} (USN: {usn})!\")\n",
    "print(\"Let's manage your fantasy game inventory!\\n\")\n",
    "\n",
    "inventory = {'rope': 1, 'torch': 6, 'gold coin': 42, 'dagger': 1, 'arrow': 12}\n",
    "dragonLoot = ['gold coin', 'dagger', 'gold coin', 'gold coin', 'ruby']\n",
    "\n",
    "print(\"Current inventory:\")\n",
    "displayInventory(inventory)\n",
    "\n",
    "inventory = addToInventory(inventory, dragonLoot)\n",
    "\n",
    "print(\"\\nAfter collecting loot:\")\n",
    "displayInventory(inventory)\n"
   ]
  },
  {
   "cell_type": "code",
   "execution_count": null,
   "id": "82ed3f12-9679-4fce-ad0f-fad39cd68cb5",
   "metadata": {},
   "outputs": [],
   "source": []
  }
 ],
 "metadata": {
  "kernelspec": {
   "display_name": "Python 3 (ipykernel)",
   "language": "python",
   "name": "python3"
  },
  "language_info": {
   "codemirror_mode": {
    "name": "ipython",
    "version": 3
   },
   "file_extension": ".py",
   "mimetype": "text/x-python",
   "name": "python",
   "nbconvert_exporter": "python",
   "pygments_lexer": "ipython3",
   "version": "3.12.7"
  }
 },
 "nbformat": 4,
 "nbformat_minor": 5
}
