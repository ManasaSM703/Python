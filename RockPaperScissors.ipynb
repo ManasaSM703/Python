{
 "cells": [
  {
   "cell_type": "code",
   "execution_count": 1,
   "id": "3867b593-330f-4c2d-80df-a38a87a16b0a",
   "metadata": {},
   "outputs": [
    {
     "name": "stdin",
     "output_type": "stream",
     "text": [
      "Enter your name:  Manasa M A\n",
      "Enter your section:  O\n",
      "Enter your USN:  1AY24AI066\n"
     ]
    },
    {
     "name": "stdout",
     "output_type": "stream",
     "text": [
      "\n",
      "Welcome, Manasa M A from section O (USN: 1AY24AI066)!\n",
      "Let's play Rock, Paper, Scissors!\n",
      "\n"
     ]
    },
    {
     "name": "stdin",
     "output_type": "stream",
     "text": [
      "Enter your choice (rock, paper, scissors):  scissors\n"
     ]
    },
    {
     "name": "stdout",
     "output_type": "stream",
     "text": [
      "\n",
      "You chose: scissors\n",
      "Computer chose: rock\n",
      "Computer wins!\n",
      "\n"
     ]
    },
    {
     "name": "stdin",
     "output_type": "stream",
     "text": [
      "Do you want to play again? (yes/no):  no\n"
     ]
    },
    {
     "name": "stdout",
     "output_type": "stream",
     "text": [
      "\n",
      "Thank you for playing, Manasa M A!\n"
     ]
    }
   ],
   "source": [
    "import random\n",
    "\n",
    "\n",
    "name = input(\"Enter your name: \")\n",
    "section = input(\"Enter your section: \")\n",
    "usn = input(\"Enter your USN: \")\n",
    "\n",
    "print(f\"\\nWelcome, {name} from section {section} (USN: {usn})!\")\n",
    "print(\"Let's play Rock, Paper, Scissors!\\n\")\n",
    "\n",
    "\n",
    "choices = ['rock', 'paper', 'scissors']\n",
    "\n",
    "\n",
    "while True:\n",
    "    \n",
    "    user_choice = input(\"Enter your choice (rock, paper, scissors): \").lower()\n",
    "    if user_choice not in choices:\n",
    "        print(\"Invalid choice. Please try again.\\n\")\n",
    "        continue\n",
    "\n",
    "    \n",
    "    computer_choice = random.choice(choices)\n",
    "\n",
    "    print(f\"\\nYou chose: {user_choice}\")\n",
    "    print(f\"Computer chose: {computer_choice}\")\n",
    "\n",
    "    \n",
    "    if user_choice == computer_choice:\n",
    "        print(\"It's a tie!\\n\")\n",
    "    elif (user_choice == 'rock' and computer_choice == 'scissors') or \\\n",
    "         (user_choice == 'paper' and computer_choice == 'rock') or \\\n",
    "         (user_choice == 'scissors' and computer_choice == 'paper'):\n",
    "        print(\"You win!\\n\")\n",
    "    else:\n",
    "        print(\"Computer wins!\\n\")\n",
    "\n",
    "    \n",
    "    play_again = input(\"Do you want to play again? (yes/no): \").lower()\n",
    "    if play_again != 'yes':\n",
    "        print(f\"\\nThank you for playing, {name}!\")\n",
    "        break\n"
   ]
  },
  {
   "cell_type": "code",
   "execution_count": null,
   "id": "b1b5671c-e8d9-4d43-b653-c7edaca0ffc9",
   "metadata": {},
   "outputs": [],
   "source": []
  }
 ],
 "metadata": {
  "kernelspec": {
   "display_name": "Python 3 (ipykernel)",
   "language": "python",
   "name": "python3"
  },
  "language_info": {
   "codemirror_mode": {
    "name": "ipython",
    "version": 3
   },
   "file_extension": ".py",
   "mimetype": "text/x-python",
   "name": "python",
   "nbconvert_exporter": "python",
   "pygments_lexer": "ipython3",
   "version": "3.12.7"
  }
 },
 "nbformat": 4,
 "nbformat_minor": 5
}
