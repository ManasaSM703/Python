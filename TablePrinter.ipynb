{
 "cells": [
  {
   "cell_type": "code",
   "execution_count": 1,
   "id": "573533c6-1f83-41d9-ad8d-5573dc47baea",
   "metadata": {},
   "outputs": [
    {
     "name": "stdin",
     "output_type": "stream",
     "text": [
      "Enter your name:  Manasa M A\n",
      "Enter your section:  O\n",
      "Enter your USN:  1AY24AI066\n"
     ]
    },
    {
     "name": "stdout",
     "output_type": "stream",
     "text": [
      "\n",
      "Welcome, Manasa M A from section O (USN: 1AY24AI066)!\n",
      "Here's your formatted table:\n",
      "\n",
      "  apples Alice  dogs \n",
      " oranges   Bob  cats \n",
      "cherries Carol moose \n",
      "  banana David goose \n"
     ]
    }
   ],
   "source": [
    "def printTable(tableData):\n",
    "    \"\"\"\n",
    "    Prints a formatted table with right-justified columns.\n",
    "    \"\"\"\n",
    "    colWidths = [0] * len(tableData)\n",
    "    for i in range(len(tableData)):\n",
    "        for item in tableData[i]:\n",
    "            if len(item) > colWidths[i]:\n",
    "                colWidths[i] = len(item)\n",
    "\n",
    "    for row in range(len(tableData[0])):\n",
    "        for col in range(len(tableData)):\n",
    "            print(tableData[col][row].rjust(colWidths[col]), end=' ')\n",
    "        print()\n",
    "\n",
    "name = input(\"Enter your name: \")\n",
    "section = input(\"Enter your section: \")\n",
    "usn = input(\"Enter your USN: \")\n",
    "\n",
    "print(f\"\\nWelcome, {name} from section {section} (USN: {usn})!\")\n",
    "print(\"Here's your formatted table:\\n\")\n",
    "\n",
    "tableData = [['apples', 'oranges', 'cherries', 'banana'],\n",
    "             ['Alice', 'Bob', 'Carol', 'David'],\n",
    "             ['dogs', 'cats', 'moose', 'goose']]\n",
    "\n",
    "\n",
    "printTable(tableData)\n"
   ]
  },
  {
   "cell_type": "code",
   "execution_count": null,
   "id": "e862ab08-9811-432c-8e9e-d593e8fe0f28",
   "metadata": {},
   "outputs": [],
   "source": []
  }
 ],
 "metadata": {
  "kernelspec": {
   "display_name": "Python 3 (ipykernel)",
   "language": "python",
   "name": "python3"
  },
  "language_info": {
   "codemirror_mode": {
    "name": "ipython",
    "version": 3
   },
   "file_extension": ".py",
   "mimetype": "text/x-python",
   "name": "python",
   "nbconvert_exporter": "python",
   "pygments_lexer": "ipython3",
   "version": "3.12.7"
  }
 },
 "nbformat": 4,
 "nbformat_minor": 5
}
