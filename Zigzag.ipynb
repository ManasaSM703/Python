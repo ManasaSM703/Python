{
 "cells": [
  {
   "cell_type": "code",
   "execution_count": 1,
   "id": "4b8ae689-e584-484f-a0f4-24bba4b5feb5",
   "metadata": {},
   "outputs": [
    {
     "name": "stdin",
     "output_type": "stream",
     "text": [
      "Enter your name:  Manasa M A\n",
      "Enter your section:  O\n",
      "Enter your USN:  1AY24AI066\n"
     ]
    },
    {
     "name": "stdout",
     "output_type": "stream",
     "text": [
      "\n",
      "Welcome, Manasa M A from section O (USN: 1AY24AI066)!\n",
      "Let's print a Zigzag Number Pattern!\n",
      "\n"
     ]
    },
    {
     "name": "stdin",
     "output_type": "stream",
     "text": [
      "Enter the number of rows for the zigzag pattern:  5\n"
     ]
    },
    {
     "name": "stdout",
     "output_type": "stream",
     "text": [
      "1 2 3 4 5\n",
      "10 9 8 7 6\n",
      "11 12 13 14 15\n",
      "20 19 18 17 16\n",
      "21 22 23 24 25\n"
     ]
    }
   ],
   "source": [
    "name = input(\"Enter your name: \")\n",
    "section = input(\"Enter your section: \")\n",
    "usn = input(\"Enter your USN: \")\n",
    "\n",
    "print(f\"\\nWelcome, {name} from section {section} (USN: {usn})!\")\n",
    "print(\"Let's print a Zigzag Number Pattern!\\n\")\n",
    "\n",
    "n = int(input(\"Enter the number of rows for the zigzag pattern: \"))\n",
    "\n",
    "num = 1\n",
    "\n",
    "for i in range(1, n + 1):\n",
    "    row = []\n",
    "    for j in range(n):\n",
    "        row.append(num)\n",
    "        num += 1\n",
    "    if i % 2 == 0:\n",
    "        row.reverse()\n",
    "    print(' '.join(str(x) for x in row))\n"
   ]
  },
  {
   "cell_type": "code",
   "execution_count": null,
   "id": "332dda04-362a-45db-85bb-5ac7d8fac2ef",
   "metadata": {},
   "outputs": [],
   "source": []
  }
 ],
 "metadata": {
  "kernelspec": {
   "display_name": "Python 3 (ipykernel)",
   "language": "python",
   "name": "python3"
  },
  "language_info": {
   "codemirror_mode": {
    "name": "ipython",
    "version": 3
   },
   "file_extension": ".py",
   "mimetype": "text/x-python",
   "name": "python",
   "nbconvert_exporter": "python",
   "pygments_lexer": "ipython3",
   "version": "3.12.7"
  }
 },
 "nbformat": 4,
 "nbformat_minor": 5
}
