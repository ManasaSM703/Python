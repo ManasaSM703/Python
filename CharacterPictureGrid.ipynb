{
 "cells": [
  {
   "cell_type": "code",
   "execution_count": 1,
   "id": "8f7a7d59-3896-45d9-b568-262fe836f6f7",
   "metadata": {},
   "outputs": [
    {
     "name": "stdin",
     "output_type": "stream",
     "text": [
      "Enter your name:  Manasa M A\n",
      "Enter your section:  O\n",
      "Enter your USN:  1AY24AI066\n"
     ]
    },
    {
     "name": "stdout",
     "output_type": "stream",
     "text": [
      "\n",
      "Welcome, Manasa M A from section O (USN: 1AY24AI066)!\n",
      "Here's the character picture grid:\n",
      "\n",
      "..OO.OO..\n",
      ".OOOOOOO.\n",
      ".OOOOOOO.\n",
      "..OOOOO..\n",
      "...OOO...\n",
      "....O....\n"
     ]
    }
   ],
   "source": [
    "name = input(\"Enter your name: \")\n",
    "section = input(\"Enter your section: \")\n",
    "usn = input(\"Enter your USN: \")\n",
    "\n",
    "print(f\"\\nWelcome, {name} from section {section} (USN: {usn})!\")\n",
    "print(\"Here's the character picture grid:\\n\")\n",
    "\n",
    "grid = [\n",
    "    ['.', '.', '.', '.', '.', '.'],\n",
    "    ['.', 'O', 'O', '.', '.', '.'],\n",
    "    ['O', 'O', 'O', 'O', '.', '.'],\n",
    "    ['O', 'O', 'O', 'O', 'O', '.'],\n",
    "    ['.', 'O', 'O', 'O', 'O', 'O'],\n",
    "    ['O', 'O', 'O', 'O', 'O', '.'],\n",
    "    ['O', 'O', 'O', 'O', '.', '.'],\n",
    "    ['.', 'O', 'O', '.', '.', '.'],\n",
    "    ['.', '.', '.', '.', '.', '.']\n",
    "]\n",
    "\n",
    "for y in range(len(grid[0])):\n",
    "    for x in range(len(grid)):\n",
    "        print(grid[x][y], end='')\n",
    "    print()\n"
   ]
  },
  {
   "cell_type": "code",
   "execution_count": null,
   "id": "9325be7c-12cf-431d-ae28-9514bb40f7a3",
   "metadata": {},
   "outputs": [],
   "source": []
  }
 ],
 "metadata": {
  "kernelspec": {
   "display_name": "Python 3 (ipykernel)",
   "language": "python",
   "name": "python3"
  },
  "language_info": {
   "codemirror_mode": {
    "name": "ipython",
    "version": 3
   },
   "file_extension": ".py",
   "mimetype": "text/x-python",
   "name": "python",
   "nbconvert_exporter": "python",
   "pygments_lexer": "ipython3",
   "version": "3.12.7"
  }
 },
 "nbformat": 4,
 "nbformat_minor": 5
}
