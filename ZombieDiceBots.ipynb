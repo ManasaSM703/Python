{
 "cells": [
  {
   "cell_type": "code",
   "execution_count": 2,
   "id": "ee22ee5c-bf2b-410e-b9f6-69078962d37e",
   "metadata": {},
   "outputs": [
    {
     "name": "stdout",
     "output_type": "stream",
     "text": [
      "Name: Manasa M A\n",
      "Section: O\n",
      "USN: 1AY24AI066\n",
      "ZombieBot rolled: ['shotgun', 'brains', 'footsteps']\n",
      "ZombieBot rolled: ['brains', 'shotgun', 'brains']\n",
      "ZombieBot rolled: ['brains', 'shotgun', 'brains']\n",
      "ZombieBot was shotgunned!\n",
      "ZombieBot scored 0 points.\n"
     ]
    }
   ],
   "source": [
    "import random\n",
    "\n",
    "print(\"Name: Manasa M A\")\n",
    "print(\"Section: O\")\n",
    "print(\"USN: 1AY24AI066\")\n",
    "\n",
    "GREEN = 'green'\n",
    "YELLOW = 'yellow'\n",
    "RED = 'red'\n",
    "\n",
    "BRAINS = 'brains'\n",
    "FOOTSTEPS = 'footsteps'\n",
    "SHOTGUN = 'shotgun'\n",
    "\n",
    "DICE = {\n",
    "    GREEN: [BRAINS, BRAINS, BRAINS, FOOTSTEPS, FOOTSTEPS, SHOTGUN],\n",
    "    YELLOW: [BRAINS, BRAINS, FOOTSTEPS, FOOTSTEPS, SHOTGUN, SHOTGUN],\n",
    "    RED: [BRAINS, FOOTSTEPS, FOOTSTEPS, SHOTGUN, SHOTGUN, SHOTGUN]\n",
    "}\n",
    "\n",
    "NUM_GREEN = 6\n",
    "NUM_YELLOW = 4\n",
    "NUM_RED = 3\n",
    "\n",
    "TARGET_BRAINS = 13\n",
    "MAX_SHOTGUNS = 3\n",
    "\n",
    "class Zombie:\n",
    "    def __init__(self, name):\n",
    "        self.name = name\n",
    "        self.brains = 0\n",
    "        self.shotguns = 0\n",
    "\n",
    "    def roll(self):\n",
    "        \"\"\"Simulate rolling three dice.\"\"\"\n",
    "        dice = [GREEN] * NUM_GREEN + [YELLOW] * NUM_YELLOW + [RED] * NUM_RED\n",
    "        random.shuffle(dice)\n",
    "        rolled = random.sample(dice, 3)\n",
    "        results = [random.choice(DICE[d]) for d in rolled]\n",
    "        return results\n",
    "\n",
    "    def turn(self):\n",
    "        \"\"\"Simulate a turn for the zombie.\"\"\"\n",
    "        self.brains = 0\n",
    "        self.shotguns = 0\n",
    "        while self.shotguns < MAX_SHOTGUNS:\n",
    "            results = self.roll()\n",
    "            print(f\"{self.name} rolled: {results}\")\n",
    "            for result in results:\n",
    "                if result == BRAINS:\n",
    "                    self.brains += 1\n",
    "                elif result == SHOTGUN:\n",
    "                    self.shotguns += 1\n",
    "            if self.shotguns >= MAX_SHOTGUNS:\n",
    "                print(f\"{self.name} was shotgunned!\")\n",
    "                return 0\n",
    "            if self.brains >= TARGET_BRAINS:\n",
    "                print(f\"{self.name} reached {TARGET_BRAINS} brains!\")\n",
    "                return self.brains\n",
    "        return self.brains\n",
    "\n",
    "def main():\n",
    "    zombie = Zombie(\"ZombieBot\")\n",
    "    score = zombie.turn()\n",
    "    print(f\"{zombie.name} scored {score} points.\")\n",
    "\n",
    "if __name__ == \"__main__\":\n",
    "    main()\n"
   ]
  },
  {
   "cell_type": "code",
   "execution_count": null,
   "id": "c52e0bf1-d656-47b1-a2a9-329fb40294ec",
   "metadata": {},
   "outputs": [],
   "source": []
  }
 ],
 "metadata": {
  "kernelspec": {
   "display_name": "Python 3 (ipykernel)",
   "language": "python",
   "name": "python3"
  },
  "language_info": {
   "codemirror_mode": {
    "name": "ipython",
    "version": 3
   },
   "file_extension": ".py",
   "mimetype": "text/x-python",
   "name": "python",
   "nbconvert_exporter": "python",
   "pygments_lexer": "ipython3",
   "version": "3.12.7"
  }
 },
 "nbformat": 4,
 "nbformat_minor": 5
}
