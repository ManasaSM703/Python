{
 "cells": [
  {
   "cell_type": "code",
   "execution_count": 1,
   "id": "c962194c-182f-40a0-bdad-3c433e4793f7",
   "metadata": {},
   "outputs": [
    {
     "name": "stdin",
     "output_type": "stream",
     "text": [
      "Enter your name:  Manasa M A\n",
      "Enter your section:  O\n",
      "Enter your USN:  1AY24AI066\n"
     ]
    },
    {
     "name": "stdout",
     "output_type": "stream",
     "text": [
      "\n",
      "Welcome, Manasa M A from section O (USN: 1AY24AI066)!\n",
      "Let's validate a chessboard!\n",
      "\n",
      "The chessboard is valid.\n"
     ]
    }
   ],
   "source": [
    "def is_valid_chess_board(board):\n",
    "    \"\"\"\n",
    "    Validates a chessboard represented as a dictionary.\n",
    "    \"\"\"\n",
    "    valid_positions = [f\"{row}{col}\" for row in range(1, 9) for col in \"abcdefgh\"]\n",
    "    valid_pieces = {'pawn', 'knight', 'bishop', 'rook', 'queen', 'king'}\n",
    "    piece_counts = {'w': {}, 'b': {}}\n",
    "    total_pieces = {'w': 0, 'b': 0}\n",
    "\n",
    "    for position, piece in board.items():\n",
    "        if position not in valid_positions:\n",
    "            print(f\"Invalid position: {position}\")\n",
    "            return False\n",
    "            \n",
    "        if len(piece) < 2 or piece[0] not in ('w', 'b') or piece[1:] not in valid_pieces:\n",
    "            print(f\"Invalid piece: {piece}\")\n",
    "            return False\n",
    "\n",
    "        color = piece[0]\n",
    "        piece_type = piece[1:]\n",
    "\n",
    "        piece_counts[color][piece_type] = piece_counts[color].get(piece_type, 0) + 1\n",
    "        total_pieces[color] += 1\n",
    "\n",
    "    if piece_counts['w'].get('king', 0) != 1 or piece_counts['b'].get('king', 0) != 1:\n",
    "        print(\"There must be exactly one white king and one black king.\")\n",
    "        return False\n",
    "\n",
    "    if piece_counts['w'].get('pawn', 0) > 8 or piece_counts['b'].get('pawn', 0) > 8:\n",
    "        print(\"There can be at most 8 pawns per player.\")\n",
    "        return False\n",
    "\n",
    "    if total_pieces['w'] > 16 or total_pieces['b'] > 16:\n",
    "        print(\"There can be at most 16 pieces per player.\")\n",
    "        return False\n",
    "\n",
    "    return True\n",
    "\n",
    "name = input(\"Enter your name: \")\n",
    "section = input(\"Enter your section: \")\n",
    "usn = input(\"Enter your USN: \")\n",
    "\n",
    "print(f\"\\nWelcome, {name} from section {section} (USN: {usn})!\")\n",
    "print(\"Let's validate a chessboard!\\n\")\n",
    "\n",
    "chess_board = {\n",
    "    '1h': 'bking',\n",
    "    '6c': 'wqueen',\n",
    "    '2g': 'bbishop',\n",
    "    '5h': 'bqueen',\n",
    "    '3e': 'wking'\n",
    "}\n",
    "\n",
    "if is_valid_chess_board(chess_board):\n",
    "    print(\"The chessboard is valid.\")\n",
    "else:\n",
    "    print(\"The chessboard is invalid.\")\n"
   ]
  },
  {
   "cell_type": "code",
   "execution_count": null,
   "id": "ae9b4d2c-60b0-4bd6-a18b-5f4506e42d74",
   "metadata": {},
   "outputs": [],
   "source": []
  }
 ],
 "metadata": {
  "kernelspec": {
   "display_name": "Python 3 (ipykernel)",
   "language": "python",
   "name": "python3"
  },
  "language_info": {
   "codemirror_mode": {
    "name": "ipython",
    "version": 3
   },
   "file_extension": ".py",
   "mimetype": "text/x-python",
   "name": "python",
   "nbconvert_exporter": "python",
   "pygments_lexer": "ipython3",
   "version": "3.12.7"
  }
 },
 "nbformat": 4,
 "nbformat_minor": 5
}
